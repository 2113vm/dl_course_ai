{
 "cells": [
  {
   "cell_type": "markdown",
   "metadata": {},
   "source": [
    "# Задание 2.1 - Нейронные сети\n",
    "\n",
    "В этом задании вы реализуете и натренируете настоящую нейроную сеть своими руками!\n",
    "\n",
    "В некотором смысле это будет расширением прошлого задания - нам нужно просто составить несколько линейных классификаторов вместе!\n",
    "\n",
    "<img src=\"https://i.redd.it/n9fgba8b0qr01.png\" alt=\"Stack_more_layers\" width=\"400px\"/>"
   ]
  },
  {
   "cell_type": "code",
   "execution_count": 1,
   "metadata": {},
   "outputs": [],
   "source": [
    "import numpy as np\n",
    "import matplotlib.pyplot as plt\n",
    "\n",
    "%matplotlib inline\n",
    "\n",
    "%load_ext autoreload\n",
    "%autoreload 2"
   ]
  },
  {
   "cell_type": "code",
   "execution_count": 2,
   "metadata": {},
   "outputs": [],
   "source": [
    "from dataset import load_svhn, random_split_train_val\n",
    "from gradient_check import check_layer_gradient, check_layer_param_gradient, check_model_gradient\n",
    "from layers import FullyConnectedLayer, ReLULayer\n",
    "from model import TwoLayerNet\n",
    "from trainer import Trainer, Dataset\n",
    "from optim import SGD, MomentumSGD\n",
    "from metrics import multiclass_accuracy"
   ]
  },
  {
   "cell_type": "markdown",
   "metadata": {},
   "source": [
    "# Загружаем данные\n",
    "\n",
    "И разделяем их на training и validation."
   ]
  },
  {
   "cell_type": "code",
   "execution_count": 3,
   "metadata": {},
   "outputs": [],
   "source": [
    "def prepare_for_neural_network(train_X, test_X):\n",
    "    train_flat = train_X.reshape(train_X.shape[0], -1).astype(np.float) / 255.0\n",
    "    test_flat = test_X.reshape(test_X.shape[0], -1).astype(np.float) / 255.0\n",
    "    \n",
    "    # Subtract mean\n",
    "    mean_image = np.mean(train_flat, axis = 0)\n",
    "    train_flat -= mean_image\n",
    "    test_flat -= mean_image\n",
    "    \n",
    "    return train_flat, test_flat\n",
    "    \n",
    "train_X, train_y, test_X, test_y = load_svhn(\"../assignment1/data\", max_train=10000, max_test=1000)    \n",
    "train_X, test_X = prepare_for_neural_network(train_X, test_X)\n",
    "# Split train into train and val\n",
    "train_X, train_y, val_X, val_y = random_split_train_val(train_X, train_y, num_val = 1000)"
   ]
  },
  {
   "cell_type": "code",
   "execution_count": null,
   "metadata": {},
   "outputs": [],
   "source": []
  },
  {
   "cell_type": "markdown",
   "metadata": {},
   "source": [
    "# Как всегда, начинаем с кирпичиков\n",
    "\n",
    "Мы будем реализовывать необходимые нам слои по очереди. Каждый слой должен реализовать:\n",
    "- прямой проход (forward pass), который генерирует выход слоя по входу и запоминает необходимые данные\n",
    "- обратный проход (backward pass), который получает градиент по выходу слоя и вычисляет градиент по входу и по параметрам\n",
    "\n",
    "Начнем с ReLU, у которого параметров нет."
   ]
  },
  {
   "cell_type": "code",
   "execution_count": 4,
   "metadata": {
    "scrolled": false
   },
   "outputs": [
    {
     "name": "stdout",
     "output_type": "stream",
     "text": [
      "Gradient check passed!\n"
     ]
    }
   ],
   "source": [
    "# TODO: Implement ReLULayer layer in layers.py\n",
    "# Note: you'll need to copy implementation of the gradient_check function from the previous assignment\n",
    "\n",
    "X = np.array([[1,-2,3],\n",
    "              [-1, 2, 0.1]\n",
    "              ])\n",
    "\n",
    "assert check_layer_gradient(ReLULayer(), X)"
   ]
  },
  {
   "cell_type": "markdown",
   "metadata": {},
   "source": [
    "А теперь реализуем полносвязный слой (fully connected layer), у которого будет два массива параметров: W (weights) и B (bias).\n",
    "\n",
    "Все параметры наши слои будут использовать для параметров специальный класс `Param`, в котором будут храниться значения параметров и градиенты этих параметров, вычисляемые во время обратного прохода.\n",
    "\n",
    "Это даст возможность аккумулировать (суммировать) градиенты из разных частей функции потерь, например, из cross-entropy loss и regularization loss."
   ]
  },
  {
   "cell_type": "code",
   "execution_count": 5,
   "metadata": {},
   "outputs": [
    {
     "name": "stdout",
     "output_type": "stream",
     "text": [
      "Gradient check passed!\n",
      "Gradient check passed!\n",
      "Gradient check passed!\n"
     ]
    }
   ],
   "source": [
    "# TODO: Implement FullyConnected layer forward and backward methods\n",
    "assert check_layer_gradient(FullyConnectedLayer(3, 4), X)\n",
    "# TODO: Implement storing gradients for W and B\n",
    "assert check_layer_param_gradient(FullyConnectedLayer(3, 4), X, 'W')\n",
    "assert check_layer_param_gradient(FullyConnectedLayer(3, 4), X, 'B')"
   ]
  },
  {
   "cell_type": "markdown",
   "metadata": {},
   "source": [
    "## Создаем нейронную сеть\n",
    "\n",
    "Теперь мы реализуем простейшую нейронную сеть с двумя полносвязным слоями и нелинейностью ReLU. Реализуйте функцию `compute_loss_and_gradients`, она должна запустить прямой и обратный проход через оба слоя для вычисления градиентов.\n",
    "\n",
    "Не забудьте реализовать очистку градиентов в начале функции."
   ]
  },
  {
   "cell_type": "code",
   "execution_count": null,
   "metadata": {},
   "outputs": [],
   "source": []
  },
  {
   "cell_type": "code",
   "execution_count": 6,
   "metadata": {},
   "outputs": [
    {
     "name": "stdout",
     "output_type": "stream",
     "text": [
      "Checking gradient for (0, 'W')\n",
      "Gradient check passed!\n",
      "Checking gradient for (0, 'B')\n",
      "Gradient check passed!\n",
      "Checking gradient for (2, 'W')\n",
      "Gradient check passed!\n",
      "Checking gradient for (2, 'B')\n",
      "Gradient check passed!\n"
     ]
    },
    {
     "data": {
      "text/plain": [
       "True"
      ]
     },
     "execution_count": 6,
     "metadata": {},
     "output_type": "execute_result"
    }
   ],
   "source": [
    "# TODO: In model.py, implement compute_loss_and_gradients function\n",
    "model = TwoLayerNet(n_input = train_X.shape[1], n_output = 10, hidden_layer_size = 3, reg = 0)\n",
    "loss = model.compute_loss_and_gradients(train_X[:2], train_y[:2])\n",
    "\n",
    "# TODO Now implement backward pass and aggregate all of the params\n",
    "check_model_gradient(model, train_X[:2], train_y[:2])"
   ]
  },
  {
   "cell_type": "code",
   "execution_count": null,
   "metadata": {},
   "outputs": [],
   "source": []
  },
  {
   "cell_type": "markdown",
   "metadata": {},
   "source": [
    "Теперь добавьте к модели регуляризацию - она должна прибавляться к loss и делать свой вклад в градиенты."
   ]
  },
  {
   "cell_type": "code",
   "execution_count": 7,
   "metadata": {},
   "outputs": [
    {
     "name": "stdout",
     "output_type": "stream",
     "text": [
      "Checking gradient for (0, 'W')\n",
      "Gradient check passed!\n",
      "Checking gradient for (0, 'B')\n",
      "Gradient check passed!\n",
      "Checking gradient for (2, 'W')\n",
      "Gradient check passed!\n",
      "Checking gradient for (2, 'B')\n",
      "Gradient check passed!\n"
     ]
    },
    {
     "data": {
      "text/plain": [
       "True"
      ]
     },
     "execution_count": 7,
     "metadata": {},
     "output_type": "execute_result"
    }
   ],
   "source": [
    "# TODO Now implement l2 regularization in the forward and backward pass\n",
    "model_with_reg = TwoLayerNet(n_input = train_X.shape[1], n_output = 10, hidden_layer_size = 3, reg = 1e1)\n",
    "loss_with_reg = model_with_reg.compute_loss_and_gradients(train_X[:2], train_y[:2])\n",
    "assert loss_with_reg > loss and not np.isclose(loss_with_reg, loss), \\\n",
    "    \"Loss with regularization (%2.4f) should be higher than without it (%2.4f)!\" % (loss, loss_with_reg)\n",
    "\n",
    "check_model_gradient(model_with_reg, train_X[:2], train_y[:2])"
   ]
  },
  {
   "cell_type": "markdown",
   "metadata": {},
   "source": [
    "Также реализуем функцию предсказания (вычисления значения) модели на новых данных.\n",
    "\n",
    "Какое значение точности мы ожидаем увидеть до начала тренировки?"
   ]
  },
  {
   "cell_type": "code",
   "execution_count": 8,
   "metadata": {},
   "outputs": [
    {
     "data": {
      "text/plain": [
       "0.1"
      ]
     },
     "execution_count": 8,
     "metadata": {},
     "output_type": "execute_result"
    }
   ],
   "source": [
    "# Finally, implement predict function!\n",
    "\n",
    "# TODO: Implement predict function\n",
    "# What would be the value we expect?\n",
    "multiclass_accuracy(model_with_reg.predict(train_X[:30]), train_y[:30]) "
   ]
  },
  {
   "cell_type": "code",
   "execution_count": null,
   "metadata": {},
   "outputs": [],
   "source": []
  },
  {
   "cell_type": "markdown",
   "metadata": {},
   "source": [
    "# Допишем код для процесса тренировки\n",
    "\n",
    "Если все реализовано корректно, значение функции ошибки должно уменьшаться с каждой эпохой, пусть и медленно. Не беспокойтесь пока про validation accuracy."
   ]
  },
  {
   "cell_type": "code",
   "execution_count": 9,
   "metadata": {},
   "outputs": [
    {
     "name": "stdout",
     "output_type": "stream",
     "text": [
      "Loss: 35.869394, Train accuracy: 0.359222, val accuracy: 0.371000\n",
      "Loss: 27.511959, Train accuracy: 0.564000, val accuracy: 0.548000\n",
      "Loss: 20.797433, Train accuracy: 0.576778, val accuracy: 0.560000\n",
      "Loss: 27.737475, Train accuracy: 0.647000, val accuracy: 0.627000\n",
      "Loss: 20.360712, Train accuracy: 0.686000, val accuracy: 0.658000\n",
      "Loss: 9.272412, Train accuracy: 0.730000, val accuracy: 0.668000\n",
      "Loss: 13.570700, Train accuracy: 0.727667, val accuracy: 0.674000\n",
      "Loss: 10.285173, Train accuracy: 0.742778, val accuracy: 0.676000\n",
      "Loss: 17.147373, Train accuracy: 0.749333, val accuracy: 0.675000\n",
      "Loss: 10.977082, Train accuracy: 0.777000, val accuracy: 0.703000\n"
     ]
    },
    {
     "ename": "KeyboardInterrupt",
     "evalue": "",
     "output_type": "error",
     "traceback": [
      "\u001b[0;31m---------------------------------------------------------------------------\u001b[0m",
      "\u001b[0;31mKeyboardInterrupt\u001b[0m                         Traceback (most recent call last)",
      "\u001b[0;32m<ipython-input-9-49a3b1d7b7db>\u001b[0m in \u001b[0;36m<module>\u001b[0;34m\u001b[0m\n\u001b[1;32m      5\u001b[0m \u001b[0;31m# TODO Implement missing pieces in Trainer.fit function\u001b[0m\u001b[0;34m\u001b[0m\u001b[0;34m\u001b[0m\u001b[0;34m\u001b[0m\u001b[0m\n\u001b[1;32m      6\u001b[0m \u001b[0;31m# You should expect loss to go down every epoch, even if it's slow\u001b[0m\u001b[0;34m\u001b[0m\u001b[0;34m\u001b[0m\u001b[0;34m\u001b[0m\u001b[0m\n\u001b[0;32m----> 7\u001b[0;31m \u001b[0mloss_history\u001b[0m\u001b[0;34m,\u001b[0m \u001b[0mtrain_history\u001b[0m\u001b[0;34m,\u001b[0m \u001b[0mval_history\u001b[0m \u001b[0;34m=\u001b[0m \u001b[0mtrainer\u001b[0m\u001b[0;34m.\u001b[0m\u001b[0mfit\u001b[0m\u001b[0;34m(\u001b[0m\u001b[0;34m)\u001b[0m\u001b[0;34m\u001b[0m\u001b[0;34m\u001b[0m\u001b[0m\n\u001b[0m",
      "\u001b[0;32m~/PycharmProjects/dlcourse_ai/assignments/assignment2/trainer.py\u001b[0m in \u001b[0;36mfit\u001b[0;34m(self)\u001b[0m\n\u001b[1;32m    103\u001b[0m                 \u001b[0mX_batch\u001b[0m\u001b[0;34m,\u001b[0m \u001b[0my_batch\u001b[0m \u001b[0;34m=\u001b[0m \u001b[0mself\u001b[0m\u001b[0;34m.\u001b[0m\u001b[0mdataset\u001b[0m\u001b[0;34m.\u001b[0m\u001b[0mtrain_X\u001b[0m\u001b[0;34m[\u001b[0m\u001b[0mbatch_indices\u001b[0m\u001b[0;34m]\u001b[0m\u001b[0;34m,\u001b[0m \u001b[0mself\u001b[0m\u001b[0;34m.\u001b[0m\u001b[0mdataset\u001b[0m\u001b[0;34m.\u001b[0m\u001b[0mtrain_y\u001b[0m\u001b[0;34m[\u001b[0m\u001b[0mbatch_indices\u001b[0m\u001b[0;34m]\u001b[0m\u001b[0;34m\u001b[0m\u001b[0;34m\u001b[0m\u001b[0m\n\u001b[1;32m    104\u001b[0m \u001b[0;34m\u001b[0m\u001b[0m\n\u001b[0;32m--> 105\u001b[0;31m                 \u001b[0mloss\u001b[0m \u001b[0;34m=\u001b[0m \u001b[0mself\u001b[0m\u001b[0;34m.\u001b[0m\u001b[0mmodel\u001b[0m\u001b[0;34m.\u001b[0m\u001b[0mcompute_loss_and_gradients\u001b[0m\u001b[0;34m(\u001b[0m\u001b[0mX\u001b[0m\u001b[0;34m=\u001b[0m\u001b[0mX_batch\u001b[0m\u001b[0;34m,\u001b[0m \u001b[0my\u001b[0m\u001b[0;34m=\u001b[0m\u001b[0my_batch\u001b[0m\u001b[0;34m)\u001b[0m\u001b[0;34m\u001b[0m\u001b[0;34m\u001b[0m\u001b[0m\n\u001b[0m\u001b[1;32m    106\u001b[0m \u001b[0;34m\u001b[0m\u001b[0m\n\u001b[1;32m    107\u001b[0m                 \u001b[0;32mfor\u001b[0m \u001b[0mparam_name\u001b[0m\u001b[0;34m,\u001b[0m \u001b[0mparam\u001b[0m \u001b[0;32min\u001b[0m \u001b[0mself\u001b[0m\u001b[0;34m.\u001b[0m\u001b[0mmodel\u001b[0m\u001b[0;34m.\u001b[0m\u001b[0mparams\u001b[0m\u001b[0;34m(\u001b[0m\u001b[0;34m)\u001b[0m\u001b[0;34m.\u001b[0m\u001b[0mitems\u001b[0m\u001b[0;34m(\u001b[0m\u001b[0;34m)\u001b[0m\u001b[0;34m:\u001b[0m\u001b[0;34m\u001b[0m\u001b[0;34m\u001b[0m\u001b[0m\n",
      "\u001b[0;32m~/PycharmProjects/dlcourse_ai/assignments/assignment2/model.py\u001b[0m in \u001b[0;36mcompute_loss_and_gradients\u001b[0;34m(self, X, y)\u001b[0m\n\u001b[1;32m     54\u001b[0m         \u001b[0;32mfor\u001b[0m \u001b[0mlayer\u001b[0m \u001b[0;32min\u001b[0m \u001b[0mself\u001b[0m\u001b[0;34m.\u001b[0m\u001b[0mmodel\u001b[0m\u001b[0;34m:\u001b[0m\u001b[0;34m\u001b[0m\u001b[0;34m\u001b[0m\u001b[0m\n\u001b[1;32m     55\u001b[0m             \u001b[0;31m# print(X_.shape)\u001b[0m\u001b[0;34m\u001b[0m\u001b[0;34m\u001b[0m\u001b[0;34m\u001b[0m\u001b[0m\n\u001b[0;32m---> 56\u001b[0;31m             \u001b[0mX_\u001b[0m \u001b[0;34m=\u001b[0m \u001b[0mlayer\u001b[0m\u001b[0;34m.\u001b[0m\u001b[0mforward\u001b[0m\u001b[0;34m(\u001b[0m\u001b[0mX_\u001b[0m\u001b[0;34m)\u001b[0m\u001b[0;34m\u001b[0m\u001b[0;34m\u001b[0m\u001b[0m\n\u001b[0m\u001b[1;32m     57\u001b[0m \u001b[0;34m\u001b[0m\u001b[0m\n\u001b[1;32m     58\u001b[0m         \u001b[0mloss\u001b[0m\u001b[0;34m,\u001b[0m \u001b[0md_pred\u001b[0m \u001b[0;34m=\u001b[0m \u001b[0msoftmax_with_cross_entropy\u001b[0m\u001b[0;34m(\u001b[0m\u001b[0mX_\u001b[0m\u001b[0;34m,\u001b[0m \u001b[0my\u001b[0m\u001b[0;34m)\u001b[0m\u001b[0;34m\u001b[0m\u001b[0;34m\u001b[0m\u001b[0m\n",
      "\u001b[0;32m~/PycharmProjects/dlcourse_ai/assignments/assignment2/layers.py\u001b[0m in \u001b[0;36mforward\u001b[0;34m(self, X)\u001b[0m\n\u001b[1;32m    105\u001b[0m     \u001b[0;32mdef\u001b[0m \u001b[0mforward\u001b[0m\u001b[0;34m(\u001b[0m\u001b[0mself\u001b[0m\u001b[0;34m,\u001b[0m \u001b[0mX\u001b[0m\u001b[0;34m)\u001b[0m\u001b[0;34m:\u001b[0m\u001b[0;34m\u001b[0m\u001b[0;34m\u001b[0m\u001b[0m\n\u001b[1;32m    106\u001b[0m         \u001b[0mself\u001b[0m\u001b[0;34m.\u001b[0m\u001b[0mX\u001b[0m \u001b[0;34m=\u001b[0m \u001b[0mX\u001b[0m\u001b[0;34m.\u001b[0m\u001b[0mcopy\u001b[0m\u001b[0;34m(\u001b[0m\u001b[0;34m)\u001b[0m\u001b[0;34m\u001b[0m\u001b[0;34m\u001b[0m\u001b[0m\n\u001b[0;32m--> 107\u001b[0;31m         \u001b[0;32mreturn\u001b[0m \u001b[0mX\u001b[0m\u001b[0;34m.\u001b[0m\u001b[0mdot\u001b[0m\u001b[0;34m(\u001b[0m\u001b[0mself\u001b[0m\u001b[0;34m.\u001b[0m\u001b[0mW\u001b[0m\u001b[0;34m.\u001b[0m\u001b[0mvalue\u001b[0m\u001b[0;34m)\u001b[0m \u001b[0;34m+\u001b[0m \u001b[0mself\u001b[0m\u001b[0;34m.\u001b[0m\u001b[0mB\u001b[0m\u001b[0;34m.\u001b[0m\u001b[0mvalue\u001b[0m\u001b[0;34m\u001b[0m\u001b[0;34m\u001b[0m\u001b[0m\n\u001b[0m\u001b[1;32m    108\u001b[0m \u001b[0;34m\u001b[0m\u001b[0m\n\u001b[1;32m    109\u001b[0m     \u001b[0;32mdef\u001b[0m \u001b[0mbackward\u001b[0m\u001b[0;34m(\u001b[0m\u001b[0mself\u001b[0m\u001b[0;34m,\u001b[0m \u001b[0md_out\u001b[0m\u001b[0;34m)\u001b[0m\u001b[0;34m:\u001b[0m\u001b[0;34m\u001b[0m\u001b[0;34m\u001b[0m\u001b[0m\n",
      "\u001b[0;31mKeyboardInterrupt\u001b[0m: "
     ]
    }
   ],
   "source": [
    "model = TwoLayerNet(n_input = train_X.shape[1], n_output = 10, hidden_layer_size = 100, reg = 0)\n",
    "dataset = Dataset(train_X, train_y, val_X, val_y)\n",
    "trainer = Trainer(model, dataset, SGD(), learning_rate = 1e-2)\n",
    "\n",
    "# TODO Implement missing pieces in Trainer.fit function\n",
    "# You should expect loss to go down every epoch, even if it's slow\n",
    "loss_history, train_history, val_history = trainer.fit()"
   ]
  },
  {
   "cell_type": "code",
   "execution_count": 14,
   "metadata": {},
   "outputs": [
    {
     "data": {
      "text/plain": [
       "[<matplotlib.lines.Line2D at 0x11aa99d90>]"
      ]
     },
     "execution_count": 14,
     "metadata": {},
     "output_type": "execute_result"
    },
    {
     "data": {
      "image/png": "[encoded data removed]",
      "text/plain": [
       "<Figure size 432x288 with 1 Axes>"
      ]
     },
     "metadata": {
      "needs_background": "light"
     },
     "output_type": "display_data"
    }
   ],
   "source": [
    "plt.plot(train_history)\n",
    "plt.plot(val_history)"
   ]
  },
  {
   "cell_type": "markdown",
   "metadata": {},
   "source": [
    "# Улучшаем процесс тренировки\n",
    "\n",
    "Мы реализуем несколько ключевых оптимизаций, необходимых для тренировки современных нейросетей."
   ]
  },
  {
   "cell_type": "markdown",
   "metadata": {},
   "source": [
    "## Уменьшение скорости обучения (learning rate decay)\n",
    "\n",
    "Одна из необходимых оптимизаций во время тренировки нейронных сетей - постепенное уменьшение скорости обучения по мере тренировки.\n",
    "\n",
    "Один из стандартных методов - уменьшение скорости обучения (learning rate) каждые N эпох на коэффициент d (часто называемый decay). Значения N и d, как всегда, являются гиперпараметрами и должны подбираться на основе эффективности на проверочных данных (validation data). \n",
    "\n",
    "В нашем случае N будет равным 1."
   ]
  },
  {
   "cell_type": "code",
   "execution_count": 10,
   "metadata": {},
   "outputs": [
    {
     "name": "stdout",
     "output_type": "stream",
     "text": [
      "Loss: 41.770966, Train accuracy: 0.336111, val accuracy: 0.332000\n",
      "Loss: 31.735749, Train accuracy: 0.470111, val accuracy: 0.483000\n",
      "Loss: 33.816437, Train accuracy: 0.520556, val accuracy: 0.532000\n",
      "Loss: 36.031131, Train accuracy: 0.580111, val accuracy: 0.590000\n",
      "Loss: 41.789870, Train accuracy: 0.577778, val accuracy: 0.585000\n",
      "Loss: 40.197113, Train accuracy: 0.619111, val accuracy: 0.616000\n",
      "Loss: 35.467677, Train accuracy: 0.603333, val accuracy: 0.601000\n",
      "Loss: 36.242354, Train accuracy: 0.569778, val accuracy: 0.569000\n",
      "Loss: 26.039310, Train accuracy: 0.610556, val accuracy: 0.596000\n",
      "Loss: 28.827711, Train accuracy: 0.555444, val accuracy: 0.557000\n",
      "Loss: 35.824815, Train accuracy: 0.616000, val accuracy: 0.589000\n",
      "Loss: 39.891209, Train accuracy: 0.512111, val accuracy: 0.497000\n",
      "Loss: 39.252608, Train accuracy: 0.584222, val accuracy: 0.582000\n",
      "Loss: 27.589096, Train accuracy: 0.603444, val accuracy: 0.576000\n",
      "Loss: 35.774080, Train accuracy: 0.637222, val accuracy: 0.604000\n"
     ]
    },
    {
     "ename": "KeyboardInterrupt",
     "evalue": "",
     "output_type": "error",
     "traceback": [
      "\u001b[0;31m---------------------------------------------------------------------------\u001b[0m",
      "\u001b[0;31mKeyboardInterrupt\u001b[0m                         Traceback (most recent call last)",
      "\u001b[0;32m<ipython-input-10-2cd0d7e60500>\u001b[0m in \u001b[0;36m<module>\u001b[0;34m\u001b[0m\n\u001b[1;32m      7\u001b[0m \u001b[0;34m\u001b[0m\u001b[0m\n\u001b[1;32m      8\u001b[0m \u001b[0minitial_learning_rate\u001b[0m \u001b[0;34m=\u001b[0m \u001b[0mtrainer\u001b[0m\u001b[0;34m.\u001b[0m\u001b[0mlearning_rate\u001b[0m\u001b[0;34m\u001b[0m\u001b[0;34m\u001b[0m\u001b[0m\n\u001b[0;32m----> 9\u001b[0;31m \u001b[0mloss_history\u001b[0m\u001b[0;34m,\u001b[0m \u001b[0mtrain_history\u001b[0m\u001b[0;34m,\u001b[0m \u001b[0mval_history\u001b[0m \u001b[0;34m=\u001b[0m \u001b[0mtrainer\u001b[0m\u001b[0;34m.\u001b[0m\u001b[0mfit\u001b[0m\u001b[0;34m(\u001b[0m\u001b[0;34m)\u001b[0m\u001b[0;34m\u001b[0m\u001b[0;34m\u001b[0m\u001b[0m\n\u001b[0m\u001b[1;32m     10\u001b[0m \u001b[0;34m\u001b[0m\u001b[0m\n\u001b[1;32m     11\u001b[0m \u001b[0;32massert\u001b[0m \u001b[0mtrainer\u001b[0m\u001b[0;34m.\u001b[0m\u001b[0mlearning_rate\u001b[0m \u001b[0;34m<\u001b[0m \u001b[0minitial_learning_rate\u001b[0m\u001b[0;34m,\u001b[0m \u001b[0;34m\"Learning rate should've been reduced\"\u001b[0m\u001b[0;34m\u001b[0m\u001b[0;34m\u001b[0m\u001b[0m\n",
      "\u001b[0;32m~/PycharmProjects/dlcourse_ai/assignments/assignment2/trainer.py\u001b[0m in \u001b[0;36mfit\u001b[0;34m(self)\u001b[0m\n\u001b[1;32m    120\u001b[0m \u001b[0;34m\u001b[0m\u001b[0m\n\u001b[1;32m    121\u001b[0m             train_accuracy = self.compute_accuracy(self.dataset.train_X,\n\u001b[0;32m--> 122\u001b[0;31m                                                    self.dataset.train_y)\n\u001b[0m\u001b[1;32m    123\u001b[0m \u001b[0;34m\u001b[0m\u001b[0m\n\u001b[1;32m    124\u001b[0m             val_accuracy = self.compute_accuracy(self.dataset.val_X,\n",
      "\u001b[0;32m~/PycharmProjects/dlcourse_ai/assignments/assignment2/trainer.py\u001b[0m in \u001b[0;36mcompute_accuracy\u001b[0;34m(self, X, y)\u001b[0m\n\u001b[1;32m     69\u001b[0m \u001b[0;34m\u001b[0m\u001b[0m\n\u001b[1;32m     70\u001b[0m         \u001b[0;32mfor\u001b[0m \u001b[0mbatch_indices\u001b[0m \u001b[0;32min\u001b[0m \u001b[0mbatches_indices\u001b[0m\u001b[0;34m:\u001b[0m\u001b[0;34m\u001b[0m\u001b[0;34m\u001b[0m\u001b[0m\n\u001b[0;32m---> 71\u001b[0;31m             \u001b[0mbatch_X\u001b[0m \u001b[0;34m=\u001b[0m \u001b[0mX\u001b[0m\u001b[0;34m[\u001b[0m\u001b[0mbatch_indices\u001b[0m\u001b[0;34m]\u001b[0m\u001b[0;34m\u001b[0m\u001b[0;34m\u001b[0m\u001b[0m\n\u001b[0m\u001b[1;32m     72\u001b[0m             \u001b[0mpred_batch\u001b[0m \u001b[0;34m=\u001b[0m \u001b[0mself\u001b[0m\u001b[0;34m.\u001b[0m\u001b[0mmodel\u001b[0m\u001b[0;34m.\u001b[0m\u001b[0mpredict\u001b[0m\u001b[0;34m(\u001b[0m\u001b[0mbatch_X\u001b[0m\u001b[0;34m)\u001b[0m\u001b[0;34m\u001b[0m\u001b[0;34m\u001b[0m\u001b[0m\n\u001b[1;32m     73\u001b[0m             \u001b[0mpred\u001b[0m\u001b[0;34m[\u001b[0m\u001b[0mbatch_indices\u001b[0m\u001b[0;34m]\u001b[0m \u001b[0;34m=\u001b[0m \u001b[0mpred_batch\u001b[0m\u001b[0;34m\u001b[0m\u001b[0;34m\u001b[0m\u001b[0m\n",
      "\u001b[0;31mKeyboardInterrupt\u001b[0m: "
     ]
    }
   ],
   "source": [
    "# TODO Implement learning rate decay inside Trainer.fit method\n",
    "# Decay should happen once per epoch\n",
    "\n",
    "model = TwoLayerNet(n_input = train_X.shape[1], n_output = 10, hidden_layer_size = 100, reg = 1e-1)\n",
    "dataset = Dataset(train_X, train_y, val_X, val_y)\n",
    "trainer = Trainer(model, dataset, SGD(), learning_rate_decay=0.99)\n",
    "\n",
    "initial_learning_rate = trainer.learning_rate\n",
    "loss_history, train_history, val_history = trainer.fit()\n",
    "\n",
    "assert trainer.learning_rate < initial_learning_rate, \"Learning rate should've been reduced\"\n",
    "assert trainer.learning_rate > 0.5*initial_learning_rate, \"Learning rate shouldn'tve been reduced that much!\""
   ]
  },
  {
   "cell_type": "markdown",
   "metadata": {},
   "source": [
    "# Накопление импульса (Momentum SGD)\n",
    "\n",
    "Другой большой класс оптимизаций - использование более эффективных методов градиентного спуска. Мы реализуем один из них - накопление импульса (Momentum SGD).\n",
    "\n",
    "Этот метод хранит скорость движения, использует градиент для ее изменения на каждом шаге, и изменяет веса пропорционально значению скорости.\n",
    "(Физическая аналогия: Вместо скорости градиенты теперь будут задавать ускорение, но будет присутствовать сила трения.)\n",
    "\n",
    "```\n",
    "velocity = momentum * velocity - learning_rate * gradient \n",
    "w = w + velocity\n",
    "```\n",
    "\n",
    "`momentum` здесь коэффициент затухания, который тоже является гиперпараметром (к счастью, для него часто есть хорошее значение по умолчанию, типичный диапазон -- 0.8-0.99).\n",
    "\n",
    "Несколько полезных ссылок, где метод разбирается более подробно:  \n",
    "http://cs231n.github.io/neural-networks-3/#sgd  \n",
    "https://distill.pub/2017/momentum/"
   ]
  },
  {
   "cell_type": "code",
   "execution_count": 11,
   "metadata": {},
   "outputs": [
    {
     "name": "stdout",
     "output_type": "stream",
     "text": [
      "Loss: 37.716665, Train accuracy: 0.355111, val accuracy: 0.341000\n",
      "Loss: 30.255704, Train accuracy: 0.567667, val accuracy: 0.561000\n",
      "Loss: 30.892313, Train accuracy: 0.609667, val accuracy: 0.585000\n",
      "Loss: 26.730889, Train accuracy: 0.672667, val accuracy: 0.646000\n",
      "Loss: 18.108610, Train accuracy: 0.677222, val accuracy: 0.632000\n"
     ]
    }
   ],
   "source": [
    "# TODO: Implement MomentumSGD.update function in optim.py\n",
    "\n",
    "model = TwoLayerNet(n_input = train_X.shape[1], n_output = 10, hidden_layer_size = 100, reg = 0)\n",
    "dataset = Dataset(train_X, train_y, val_X, val_y)\n",
    "trainer = Trainer(model, dataset, MomentumSGD(), num_epochs=5,learning_rate=1e-3, learning_rate_decay=0.99)\n",
    "\n",
    "# You should see even better results than before!\n",
    "loss_history, train_history, val_history = trainer.fit()"
   ]
  },
  {
   "cell_type": "code",
   "execution_count": null,
   "metadata": {},
   "outputs": [],
   "source": [
    "model.params()[(0, 'W')].value"
   ]
  },
  {
   "cell_type": "markdown",
   "metadata": {},
   "source": [
    "# Ну что, давайте уже тренировать сеть!"
   ]
  },
  {
   "cell_type": "markdown",
   "metadata": {},
   "source": [
    "## Последний тест - переобучимся (overfit) на маленьком наборе данных\n",
    "\n",
    "Хороший способ проверить, все ли реализовано корректно - переобучить сеть на маленьком наборе данных.  \n",
    "Наша модель обладает достаточной мощностью, чтобы приблизить маленький набор данных идеально, поэтому мы ожидаем, что на нем мы быстро дойдем до 100% точности на тренировочном наборе. \n",
    "\n",
    "Если этого не происходит, то где-то была допущена ошибка!"
   ]
  },
  {
   "cell_type": "code",
   "execution_count": 13,
   "metadata": {},
   "outputs": [
    {
     "name": "stdout",
     "output_type": "stream",
     "text": [
      "Loss: 11.512312, Train accuracy: 0.200000, val accuracy: 0.066667\n",
      "Loss: 11.549136, Train accuracy: 0.333333, val accuracy: 0.066667\n",
      "Loss: 11.454908, Train accuracy: 0.333333, val accuracy: 0.066667\n",
      "Loss: 11.459124, Train accuracy: 0.266667, val accuracy: 0.000000\n",
      "Loss: 11.488553, Train accuracy: 0.266667, val accuracy: 0.000000\n",
      "Loss: 11.396232, Train accuracy: 0.266667, val accuracy: 0.000000\n",
      "Loss: 11.249844, Train accuracy: 0.266667, val accuracy: 0.000000\n",
      "Loss: 11.424549, Train accuracy: 0.266667, val accuracy: 0.000000\n",
      "Loss: 11.142334, Train accuracy: 0.266667, val accuracy: 0.000000\n",
      "Loss: 11.180443, Train accuracy: 0.266667, val accuracy: 0.000000\n",
      "Loss: 11.551750, Train accuracy: 0.266667, val accuracy: 0.000000\n",
      "Loss: 11.341165, Train accuracy: 0.266667, val accuracy: 0.000000\n",
      "Loss: 10.946270, Train accuracy: 0.266667, val accuracy: 0.000000\n",
      "Loss: 10.644292, Train accuracy: 0.333333, val accuracy: 0.000000\n",
      "Loss: 10.710558, Train accuracy: 0.400000, val accuracy: 0.000000\n",
      "Loss: 9.829894, Train accuracy: 0.400000, val accuracy: 0.000000\n",
      "Loss: 9.934390, Train accuracy: 0.400000, val accuracy: 0.000000\n",
      "Loss: 9.552673, Train accuracy: 0.400000, val accuracy: 0.000000\n",
      "Loss: 7.763671, Train accuracy: 0.400000, val accuracy: 0.000000\n",
      "Loss: 9.427596, Train accuracy: 0.400000, val accuracy: 0.000000\n",
      "Loss: 8.363431, Train accuracy: 0.400000, val accuracy: 0.000000\n",
      "Loss: 8.243002, Train accuracy: 0.400000, val accuracy: 0.000000\n",
      "Loss: 7.552665, Train accuracy: 0.333333, val accuracy: 0.000000\n",
      "Loss: 7.391704, Train accuracy: 0.333333, val accuracy: 0.000000\n",
      "Loss: 9.905924, Train accuracy: 0.333333, val accuracy: 0.000000\n",
      "Loss: 8.877609, Train accuracy: 0.400000, val accuracy: 0.000000\n",
      "Loss: 8.412183, Train accuracy: 0.400000, val accuracy: 0.000000\n",
      "Loss: 9.053452, Train accuracy: 0.400000, val accuracy: 0.000000\n",
      "Loss: 7.304240, Train accuracy: 0.400000, val accuracy: 0.000000\n",
      "Loss: 9.139616, Train accuracy: 0.400000, val accuracy: 0.000000\n",
      "Loss: 8.044939, Train accuracy: 0.400000, val accuracy: 0.000000\n",
      "Loss: 6.823779, Train accuracy: 0.400000, val accuracy: 0.000000\n",
      "Loss: 6.084438, Train accuracy: 0.466667, val accuracy: 0.000000\n",
      "Loss: 6.642356, Train accuracy: 0.466667, val accuracy: 0.000000\n",
      "Loss: 9.457490, Train accuracy: 0.466667, val accuracy: 0.000000\n",
      "Loss: 6.652054, Train accuracy: 0.466667, val accuracy: 0.000000\n",
      "Loss: 7.396372, Train accuracy: 0.466667, val accuracy: 0.000000\n",
      "Loss: 8.134417, Train accuracy: 0.466667, val accuracy: 0.000000\n",
      "Loss: 6.786188, Train accuracy: 0.466667, val accuracy: 0.066667\n",
      "Loss: 7.503158, Train accuracy: 0.466667, val accuracy: 0.066667\n",
      "Loss: 4.472097, Train accuracy: 0.466667, val accuracy: 0.066667\n",
      "Loss: 7.788291, Train accuracy: 0.466667, val accuracy: 0.066667\n",
      "Loss: 8.560862, Train accuracy: 0.600000, val accuracy: 0.066667\n",
      "Loss: 6.715541, Train accuracy: 0.600000, val accuracy: 0.066667\n",
      "Loss: 5.223869, Train accuracy: 0.600000, val accuracy: 0.066667\n",
      "Loss: 6.560022, Train accuracy: 0.600000, val accuracy: 0.066667\n",
      "Loss: 7.608820, Train accuracy: 0.600000, val accuracy: 0.066667\n",
      "Loss: 6.551172, Train accuracy: 0.666667, val accuracy: 0.066667\n",
      "Loss: 4.331865, Train accuracy: 0.666667, val accuracy: 0.066667\n",
      "Loss: 3.564354, Train accuracy: 0.666667, val accuracy: 0.066667\n",
      "Loss: 6.693872, Train accuracy: 0.666667, val accuracy: 0.066667\n",
      "Loss: 8.772749, Train accuracy: 0.666667, val accuracy: 0.066667\n",
      "Loss: 3.950954, Train accuracy: 0.666667, val accuracy: 0.066667\n",
      "Loss: 7.991481, Train accuracy: 0.733333, val accuracy: 0.066667\n",
      "Loss: 3.143347, Train accuracy: 0.733333, val accuracy: 0.066667\n",
      "Loss: 3.485079, Train accuracy: 0.733333, val accuracy: 0.066667\n",
      "Loss: 5.596218, Train accuracy: 0.733333, val accuracy: 0.066667\n",
      "Loss: 5.111836, Train accuracy: 0.733333, val accuracy: 0.066667\n",
      "Loss: 4.505031, Train accuracy: 0.800000, val accuracy: 0.066667\n",
      "Loss: 3.027903, Train accuracy: 0.800000, val accuracy: 0.066667\n",
      "Loss: 5.432922, Train accuracy: 0.800000, val accuracy: 0.066667\n",
      "Loss: 3.141263, Train accuracy: 0.800000, val accuracy: 0.066667\n",
      "Loss: 2.829052, Train accuracy: 0.800000, val accuracy: 0.066667\n",
      "Loss: 2.296023, Train accuracy: 0.800000, val accuracy: 0.066667\n",
      "Loss: 0.671230, Train accuracy: 0.800000, val accuracy: 0.066667\n",
      "Loss: 6.618315, Train accuracy: 0.800000, val accuracy: 0.066667\n",
      "Loss: 1.088125, Train accuracy: 0.800000, val accuracy: 0.066667\n",
      "Loss: 1.897830, Train accuracy: 0.800000, val accuracy: 0.066667\n",
      "Loss: 3.705954, Train accuracy: 0.800000, val accuracy: 0.066667\n",
      "Loss: 1.520011, Train accuracy: 0.800000, val accuracy: 0.066667\n",
      "Loss: 4.706321, Train accuracy: 0.800000, val accuracy: 0.066667\n",
      "Loss: 3.200467, Train accuracy: 0.800000, val accuracy: 0.066667\n",
      "Loss: 3.132924, Train accuracy: 0.800000, val accuracy: 0.066667\n",
      "Loss: 0.626901, Train accuracy: 0.800000, val accuracy: 0.066667\n",
      "Loss: 4.217629, Train accuracy: 0.800000, val accuracy: 0.066667\n",
      "Loss: 0.636919, Train accuracy: 0.866667, val accuracy: 0.066667\n",
      "Loss: 4.971843, Train accuracy: 0.866667, val accuracy: 0.066667\n",
      "Loss: 2.569999, Train accuracy: 0.866667, val accuracy: 0.066667\n",
      "Loss: 4.010787, Train accuracy: 0.866667, val accuracy: 0.066667\n",
      "Loss: 2.698394, Train accuracy: 0.866667, val accuracy: 0.066667\n",
      "Loss: 1.954069, Train accuracy: 0.866667, val accuracy: 0.066667\n",
      "Loss: 3.036378, Train accuracy: 0.866667, val accuracy: 0.066667\n",
      "Loss: 1.849879, Train accuracy: 0.933333, val accuracy: 0.066667\n",
      "Loss: 2.291224, Train accuracy: 0.933333, val accuracy: 0.066667\n",
      "Loss: 3.420340, Train accuracy: 0.933333, val accuracy: 0.066667\n",
      "Loss: 1.579482, Train accuracy: 0.933333, val accuracy: 0.066667\n",
      "Loss: 3.143101, Train accuracy: 0.933333, val accuracy: 0.066667\n",
      "Loss: 1.944343, Train accuracy: 0.933333, val accuracy: 0.066667\n",
      "Loss: 2.884079, Train accuracy: 1.000000, val accuracy: 0.066667\n",
      "Loss: 1.054007, Train accuracy: 1.000000, val accuracy: 0.066667\n",
      "Loss: 0.475966, Train accuracy: 1.000000, val accuracy: 0.066667\n",
      "Loss: 2.087947, Train accuracy: 1.000000, val accuracy: 0.066667\n",
      "Loss: 2.125586, Train accuracy: 1.000000, val accuracy: 0.066667\n",
      "Loss: 1.528253, Train accuracy: 1.000000, val accuracy: 0.066667\n",
      "Loss: 1.555838, Train accuracy: 1.000000, val accuracy: 0.066667\n",
      "Loss: 1.001627, Train accuracy: 1.000000, val accuracy: 0.066667\n",
      "Loss: 2.083849, Train accuracy: 1.000000, val accuracy: 0.066667\n",
      "Loss: 2.584701, Train accuracy: 1.000000, val accuracy: 0.066667\n",
      "Loss: 2.367010, Train accuracy: 1.000000, val accuracy: 0.066667\n",
      "Loss: 1.105550, Train accuracy: 1.000000, val accuracy: 0.066667\n",
      "Loss: 0.762672, Train accuracy: 1.000000, val accuracy: 0.066667\n",
      "Loss: 0.214868, Train accuracy: 1.000000, val accuracy: 0.066667\n",
      "Loss: 1.484643, Train accuracy: 1.000000, val accuracy: 0.066667\n",
      "Loss: 1.074916, Train accuracy: 1.000000, val accuracy: 0.066667\n",
      "Loss: 0.792696, Train accuracy: 1.000000, val accuracy: 0.066667\n",
      "Loss: 0.731101, Train accuracy: 1.000000, val accuracy: 0.066667\n",
      "Loss: 1.101456, Train accuracy: 1.000000, val accuracy: 0.066667\n",
      "Loss: 0.355910, Train accuracy: 1.000000, val accuracy: 0.066667\n",
      "Loss: 0.754179, Train accuracy: 1.000000, val accuracy: 0.066667\n",
      "Loss: 0.595618, Train accuracy: 1.000000, val accuracy: 0.066667\n",
      "Loss: 0.391955, Train accuracy: 1.000000, val accuracy: 0.066667\n",
      "Loss: 0.717677, Train accuracy: 1.000000, val accuracy: 0.066667\n",
      "Loss: 0.378688, Train accuracy: 1.000000, val accuracy: 0.066667\n",
      "Loss: 0.754044, Train accuracy: 1.000000, val accuracy: 0.066667\n",
      "Loss: 0.748881, Train accuracy: 1.000000, val accuracy: 0.066667\n",
      "Loss: 0.361447, Train accuracy: 1.000000, val accuracy: 0.066667\n",
      "Loss: 0.634895, Train accuracy: 1.000000, val accuracy: 0.066667\n",
      "Loss: 0.177566, Train accuracy: 1.000000, val accuracy: 0.066667\n",
      "Loss: 0.532568, Train accuracy: 1.000000, val accuracy: 0.000000\n",
      "Loss: 0.150314, Train accuracy: 1.000000, val accuracy: 0.000000\n",
      "Loss: 0.386111, Train accuracy: 1.000000, val accuracy: 0.000000\n",
      "Loss: 0.163631, Train accuracy: 1.000000, val accuracy: 0.000000\n",
      "Loss: 0.227719, Train accuracy: 1.000000, val accuracy: 0.000000\n",
      "Loss: 0.495238, Train accuracy: 1.000000, val accuracy: 0.000000\n",
      "Loss: 0.244547, Train accuracy: 1.000000, val accuracy: 0.000000\n",
      "Loss: 0.366865, Train accuracy: 1.000000, val accuracy: 0.000000\n",
      "Loss: 0.427822, Train accuracy: 1.000000, val accuracy: 0.000000\n",
      "Loss: 0.340890, Train accuracy: 1.000000, val accuracy: 0.000000\n",
      "Loss: 0.176556, Train accuracy: 1.000000, val accuracy: 0.000000\n",
      "Loss: 0.290928, Train accuracy: 1.000000, val accuracy: 0.000000\n",
      "Loss: 0.221620, Train accuracy: 1.000000, val accuracy: 0.000000\n",
      "Loss: 0.116296, Train accuracy: 1.000000, val accuracy: 0.000000\n",
      "Loss: 0.360874, Train accuracy: 1.000000, val accuracy: 0.000000\n",
      "Loss: 0.109921, Train accuracy: 1.000000, val accuracy: 0.000000\n",
      "Loss: 0.298990, Train accuracy: 1.000000, val accuracy: 0.000000\n",
      "Loss: 0.109726, Train accuracy: 1.000000, val accuracy: 0.000000\n",
      "Loss: 0.077477, Train accuracy: 1.000000, val accuracy: 0.000000\n",
      "Loss: 0.208203, Train accuracy: 1.000000, val accuracy: 0.000000\n",
      "Loss: 0.190431, Train accuracy: 1.000000, val accuracy: 0.000000\n",
      "Loss: 0.117156, Train accuracy: 1.000000, val accuracy: 0.000000\n",
      "Loss: 0.120743, Train accuracy: 1.000000, val accuracy: 0.000000\n",
      "Loss: 0.121679, Train accuracy: 1.000000, val accuracy: 0.000000\n",
      "Loss: 0.196827, Train accuracy: 1.000000, val accuracy: 0.000000\n",
      "Loss: 0.157415, Train accuracy: 1.000000, val accuracy: 0.000000\n"
     ]
    },
    {
     "name": "stdout",
     "output_type": "stream",
     "text": [
      "Loss: 0.133146, Train accuracy: 1.000000, val accuracy: 0.000000\n",
      "Loss: 0.279251, Train accuracy: 1.000000, val accuracy: 0.000000\n",
      "Loss: 0.217282, Train accuracy: 1.000000, val accuracy: 0.000000\n",
      "Loss: 0.106136, Train accuracy: 1.000000, val accuracy: 0.000000\n",
      "Loss: 0.143390, Train accuracy: 1.000000, val accuracy: 0.000000\n",
      "Loss: 0.172923, Train accuracy: 1.000000, val accuracy: 0.000000\n"
     ]
    }
   ],
   "source": [
    "# data_size = 15\n",
    "# model = TwoLayerNet(n_input = train_X.shape[1], n_output = 10, hidden_layer_size = 100, reg = 1e-1)\n",
    "# dataset = Dataset(train_X[:data_size], train_y[:data_size], val_X[:data_size], val_y[:data_size])\n",
    "# trainer = Trainer(model, dataset, SGD(), learning_rate=1e-1, num_epochs=150, batch_size=5)\n",
    "\n",
    "# # You should expect this to reach 1.0 training accuracy \n",
    "# loss_history, train_history, val_history = trainer.fit()\n",
    "\n",
    "data_size = 15\n",
    "model = TwoLayerNet(n_input = train_X.shape[1], n_output = 10, hidden_layer_size = 100, reg = 0)\n",
    "dataset = Dataset(train_X[:data_size], train_y[:data_size], val_X[:data_size], val_y[:data_size])\n",
    "trainer = Trainer(model, dataset, SGD(), learning_rate=1e-2, num_epochs=150, batch_size=5)\n",
    "\n",
    "# You should expect this to reach 1.0 training accuracy \n",
    "loss_history, train_history, val_history = trainer.fit()"
   ]
  },
  {
   "cell_type": "markdown",
   "metadata": {},
   "source": [
    "Теперь найдем гипепараметры, для которых этот процесс сходится быстрее.\n",
    "Если все реализовано корректно, то существуют параметры, при которых процесс сходится в **20** эпох или еще быстрее.\n",
    "Найдите их!"
   ]
  },
  {
   "cell_type": "code",
   "execution_count": 13,
   "metadata": {},
   "outputs": [
    {
     "name": "stdout",
     "output_type": "stream",
     "text": [
      "Loss: 11.559266, Train accuracy: 0.200000, val accuracy: 0.066667\n",
      "Loss: 11.379231, Train accuracy: 0.200000, val accuracy: 0.066667\n",
      "Loss: 11.463567, Train accuracy: 0.200000, val accuracy: 0.066667\n",
      "Loss: 11.222317, Train accuracy: 0.333333, val accuracy: 0.066667\n",
      "Loss: 10.637659, Train accuracy: 0.266667, val accuracy: 0.066667\n",
      "Loss: 11.061142, Train accuracy: 0.333333, val accuracy: 0.133333\n",
      "Loss: 9.508700, Train accuracy: 0.400000, val accuracy: 0.000000\n",
      "Loss: 7.086683, Train accuracy: 0.400000, val accuracy: 0.000000\n",
      "Loss: 7.475618, Train accuracy: 0.333333, val accuracy: 0.066667\n",
      "Loss: 10.625910, Train accuracy: 0.466667, val accuracy: 0.066667\n",
      "Loss: 4.864671, Train accuracy: 0.400000, val accuracy: 0.000000\n",
      "Loss: 6.008903, Train accuracy: 0.400000, val accuracy: 0.000000\n",
      "Loss: 6.406233, Train accuracy: 0.533333, val accuracy: 0.000000\n",
      "Loss: 3.221549, Train accuracy: 0.600000, val accuracy: 0.000000\n",
      "Loss: 6.283409, Train accuracy: 0.733333, val accuracy: 0.000000\n",
      "Loss: 6.412959, Train accuracy: 0.733333, val accuracy: 0.066667\n",
      "Loss: 5.098410, Train accuracy: 0.800000, val accuracy: 0.066667\n",
      "Loss: 4.217327, Train accuracy: 0.800000, val accuracy: 0.000000\n",
      "Loss: 3.058924, Train accuracy: 0.933333, val accuracy: 0.000000\n",
      "Loss: 4.085160, Train accuracy: 1.000000, val accuracy: 0.000000\n"
     ]
    }
   ],
   "source": [
    "# Now, tweak some hyper parameters and make it train to 1.0 accuracy in 20 epochs or less\n",
    "\n",
    "model = TwoLayerNet(n_input = train_X.shape[1], n_output = 10, hidden_layer_size = 100, reg = 1e-1)\n",
    "dataset = Dataset(train_X[:data_size], train_y[:data_size], val_X[:data_size], val_y[:data_size])\n",
    "# TODO: Change any hyperparamers or optimizators to reach training accuracy in 20 epochs\n",
    "trainer = Trainer(model, dataset, MomentumSGD(), learning_rate=1e-2, num_epochs=20, batch_size=5)\n",
    "\n",
    "loss_history, train_history, val_history = trainer.fit()"
   ]
  },
  {
   "cell_type": "markdown",
   "metadata": {},
   "source": [
    "# Итак, основное мероприятие!\n",
    "\n",
    "Натренируйте лучшую нейросеть! Можно добавлять и изменять параметры, менять количество нейронов в слоях сети и как угодно экспериментировать. \n",
    "\n",
    "Добейтесь точности лучше **60%** на validation set."
   ]
  },
  {
   "cell_type": "code",
   "execution_count": null,
   "metadata": {
    "scrolled": true
   },
   "outputs": [],
   "source": [
    "# Let's train the best one-hidden-layer network we can\n",
    "\n",
    "learning_rates = 1e-4\n",
    "reg_strength = 1e-3\n",
    "learning_rate_decay = 0.999\n",
    "hidden_layer_size = 128\n",
    "num_epochs = 200\n",
    "batch_size = 64\n",
    "\n",
    "best_classifier = None\n",
    "best_val_accuracy = None\n",
    "\n",
    "loss_history = []\n",
    "train_history = []\n",
    "val_history = []\n",
    "\n",
    "# TODO find the best hyperparameters to train the network\n",
    "# Don't hesitate to add new values to the arrays above, perform experiments, use any tricks you want\n",
    "# You should expect to get to at least 40% of valudation accuracy\n",
    "# Save loss/train/history of the best classifier to the variables above\n",
    "\n",
    "print('best validation accuracy achieved: %f' % best_val_accuracy)"
   ]
  },
  {
   "cell_type": "code",
   "execution_count": null,
   "metadata": {},
   "outputs": [],
   "source": [
    "plt.figure(figsize=(15, 7))\n",
    "plt.subplot(211)\n",
    "plt.title(\"Loss\")\n",
    "plt.plot(loss_history)\n",
    "plt.subplot(212)\n",
    "plt.title(\"Train/validation accuracy\")\n",
    "plt.plot(train_history)\n",
    "plt.plot(val_history)"
   ]
  },
  {
   "cell_type": "markdown",
   "metadata": {},
   "source": [
    "# Как обычно, посмотрим, как наша лучшая модель работает на тестовых данных"
   ]
  },
  {
   "cell_type": "code",
   "execution_count": null,
   "metadata": {},
   "outputs": [],
   "source": [
    "test_pred = best_classifier.predict(test_X)\n",
    "test_accuracy = multiclass_accuracy(test_pred, test_y)\n",
    "print('Neural net test set accuracy: %f' % (test_accuracy, ))"
   ]
  }
 ],
 "metadata": {
  "kernelspec": {
   "display_name": "Python 3",
   "language": "python",
   "name": "python3"
  },
  "language_info": {
   "codemirror_mode": {
    "name": "ipython",
    "version": 3
   },
   "file_extension": ".py",
   "mimetype": "text/x-python",
   "name": "python",
   "nbconvert_exporter": "python",
   "pygments_lexer": "ipython3",
   "version": "3.7.4"
  }
 },
 "nbformat": 4,
 "nbformat_minor": 2
}
